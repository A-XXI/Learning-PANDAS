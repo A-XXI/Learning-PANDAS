{
  "nbformat": 4,
  "nbformat_minor": 0,
  "metadata": {
    "colab": {
      "provenance": []
    },
    "kernelspec": {
      "name": "python3",
      "display_name": "Python 3"
    },
    "language_info": {
      "name": "python"
    }
  },
  "cells": [
    {
      "cell_type": "code",
      "execution_count": null,
      "metadata": {
        "id": "A_jGY4xlhpoZ"
      },
      "outputs": [],
      "source": [
        "%matplotlib inline\n",
        "import pandas as pd\n",
        "import numpy as np\n",
        "import matplotlib.pyplot as plt\n",
        "import datetime\n",
        "from pandas_datareader import data, wb"
      ]
    },
    {
      "cell_type": "code",
      "source": [
        "#Yahoo finance\n",
        "start = datetime.datetime(2010, 1, 1)\n",
        "end = datetime.datetime(2019, 1, 15)\n",
        "yahoo_df = data.DataReader(\"F\", 'yahoo', start, end)\n",
        "yahoo_df.plot()"
      ],
      "metadata": {
        "id": "SM18v9E9s26a"
      },
      "execution_count": null,
      "outputs": []
    },
    {
      "cell_type": "code",
      "source": [
        "#Google\n",
        "start = datetime.datetime(2010, 1, 1)\n",
        "end = datetime.datetime(2019, 1, 15)\n",
        "google_df = data.DataReader(\"F\", 'google', start, end)\n",
        "google_df.plot()"
      ],
      "metadata": {
        "id": "sGOuJxWDs3A3"
      },
      "execution_count": null,
      "outputs": []
    },
    {
      "cell_type": "code",
      "source": [
        "google_series = pd.Series(google_df.index)"
      ],
      "metadata": {
        "id": "t5zgkXnZkOTb"
      },
      "execution_count": null,
      "outputs": []
    }
  ]
}